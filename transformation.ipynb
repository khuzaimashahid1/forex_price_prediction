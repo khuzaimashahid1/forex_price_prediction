{
 "cells": [
  {
   "cell_type": "code",
   "execution_count": 1,
   "metadata": {},
   "outputs": [],
   "source": [
    "import numpy as np\n",
    "import pandas as pd"
   ]
  },
  {
   "cell_type": "code",
   "execution_count": 19,
   "metadata": {
    "scrolled": true
   },
   "outputs": [
    {
     "output_type": "execute_result",
     "data": {
      "text/plain": [
       "         Date   Time    Open    High     Low   Close  Volume\n",
       "0  2011.02.03  00:00  1.3809  1.3825  1.3609  1.3633   86287\n",
       "1  2011.02.04  00:00  1.3633  1.3676  1.3543  1.3580   77766\n",
       "2  2011.02.07  00:00  1.3569  1.3626  1.3508  1.3582   80872\n",
       "3  2011.02.08  00:00  1.3582  1.3688  1.3572  1.3625   88784\n",
       "4  2011.02.09  00:00  1.3625  1.3743  1.3611  1.3732   84264"
      ],
      "text/html": "<div>\n<style scoped>\n    .dataframe tbody tr th:only-of-type {\n        vertical-align: middle;\n    }\n\n    .dataframe tbody tr th {\n        vertical-align: top;\n    }\n\n    .dataframe thead th {\n        text-align: right;\n    }\n</style>\n<table border=\"1\" class=\"dataframe\">\n  <thead>\n    <tr style=\"text-align: right;\">\n      <th></th>\n      <th>Date</th>\n      <th>Time</th>\n      <th>Open</th>\n      <th>High</th>\n      <th>Low</th>\n      <th>Close</th>\n      <th>Volume</th>\n    </tr>\n  </thead>\n  <tbody>\n    <tr>\n      <th>0</th>\n      <td>2011.02.03</td>\n      <td>00:00</td>\n      <td>1.3809</td>\n      <td>1.3825</td>\n      <td>1.3609</td>\n      <td>1.3633</td>\n      <td>86287</td>\n    </tr>\n    <tr>\n      <th>1</th>\n      <td>2011.02.04</td>\n      <td>00:00</td>\n      <td>1.3633</td>\n      <td>1.3676</td>\n      <td>1.3543</td>\n      <td>1.3580</td>\n      <td>77766</td>\n    </tr>\n    <tr>\n      <th>2</th>\n      <td>2011.02.07</td>\n      <td>00:00</td>\n      <td>1.3569</td>\n      <td>1.3626</td>\n      <td>1.3508</td>\n      <td>1.3582</td>\n      <td>80872</td>\n    </tr>\n    <tr>\n      <th>3</th>\n      <td>2011.02.08</td>\n      <td>00:00</td>\n      <td>1.3582</td>\n      <td>1.3688</td>\n      <td>1.3572</td>\n      <td>1.3625</td>\n      <td>88784</td>\n    </tr>\n    <tr>\n      <th>4</th>\n      <td>2011.02.09</td>\n      <td>00:00</td>\n      <td>1.3625</td>\n      <td>1.3743</td>\n      <td>1.3611</td>\n      <td>1.3732</td>\n      <td>84264</td>\n    </tr>\n  </tbody>\n</table>\n</div>"
     },
     "metadata": {},
     "execution_count": 19
    }
   ],
   "source": [
    "colnames=['Date', 'Time', 'Open', 'High', 'Low', 'Close', 'Volume']\n",
    "data=pd.read_csv('D.csv', parse_dates=True, names=colnames, skipinitialspace=True)\n",
    "data.head()"
   ]
  },
  {
   "cell_type": "code",
   "execution_count": 20,
   "metadata": {},
   "outputs": [
    {
     "output_type": "execute_result",
     "data": {
      "text/plain": [
       "Date      0\n",
       "Time      0\n",
       "Open      0\n",
       "High      0\n",
       "Low       0\n",
       "Close     0\n",
       "Volume    0\n",
       "dtype: int64"
      ]
     },
     "metadata": {},
     "execution_count": 20
    }
   ],
   "source": [
    "data.isna().sum()"
   ]
  },
  {
   "cell_type": "code",
   "execution_count": 21,
   "metadata": {},
   "outputs": [],
   "source": [
    "def generate_features(df):\n",
    "    \"\"\" Generate features for a stock/index/currency/commodity based on historical price and performance\n",
    "    Args:\n",
    "        df (dataframe with columns \"open\", \"close\", \"high\", \"low\", \"volume\")\n",
    "    Returns:\n",
    "        dataframe, data set with new features\n",
    "    \"\"\"\n",
    "    df_new = pd.DataFrame()\n",
    "    \n",
    "    # 4 original features\n",
    "    df_new['date'] = df['Date']\n",
    "    df_new['open'] = df['Open']\n",
    "    df_new['high'] = df['High']\n",
    "    df_new['low'] = df['Low']\n",
    "    \n",
    "    \n",
    "    # 3 New Columns Checking high-open, open-low and total Change \n",
    "    df_new['high_open'] = df['High'] - df['Open']\n",
    "    df_new['open_low'] = df['Open'] - df['Low'] \n",
    "    df_new['total_pips']=df_new['high_open'] + df_new['open_low']\n",
    "    \n",
    "    \n",
    "    # return based on 1 day and 1 week (5 days)\n",
    "    df_new['return_1'] = ((df['Close'] - df['Close'].shift(1)) / df['Close'].shift(1))\n",
    "    df_new['return_5'] = ((df['Close'] - df['Close'].shift(5)) / df['Close'].shift(5))\n",
    "    \n",
    "    \n",
    "    \n",
    "    #RSI\n",
    "    # Window length for moving average\n",
    "    window_length = 5\n",
    "    # Get just the close\n",
    "    close = df['Close']\n",
    "    # Get the difference in price from previous step\n",
    "    delta = close.diff()\n",
    "    # Make the positive gains (up) and negative gains (down) Series\n",
    "    up, down = delta.copy(), delta.copy()\n",
    "    up[up < 0] = 0\n",
    "    down[down > 0] = 0\n",
    "\n",
    "    # Calculate the SMA\n",
    "    roll_up = up.rolling(window_length).mean()\n",
    "    roll_down = np.absolute(down.rolling(window_length).mean())\n",
    "\n",
    "    # Calculate the RSI based on SMA\n",
    "    RS = roll_up / roll_down\n",
    "    RSI = 100.0 - (100.0 / (1.0 + RS))\n",
    "    df_new['RSI']=RSI\n",
    "    \n",
    "    #Bollinger Bands\n",
    "    n = 20\n",
    "    MA = df.Close.rolling(window=n).mean()\n",
    "    SD = df.Close.rolling(window=n).std()\n",
    "    df_new['UpperBB'] = MA + (2 * SD) \n",
    "    df_new['LowerBB'] = MA - (2 * SD)\n",
    "    \n",
    "    #MACD (Exponential Moving averages)\n",
    "    exp1 = df.Close.ewm(span=12, adjust=False).mean()\n",
    "    exp2 = df.Close.ewm(span=26, adjust=False).mean()\n",
    "    macd = exp1-exp2\n",
    "    exp3 = macd.ewm(span=9, adjust=False).mean()\n",
    "    df_new['MACD'] = macd\n",
    "    df_new['Signal'] = exp3\n",
    "\n",
    "    #EVM\n",
    "    ndays=5\n",
    "    dm = ((df['High'] + df['Low'])/2) - ((df['High'].shift(1) + df['Low'].shift(1))/2)\n",
    "    br = (df['Volume'] / 100000000) / ((df['High'] - df['Low']))\n",
    "    EVM = dm / br \n",
    "    EVM_MA = pd.Series(EVM.rolling(ndays).mean(), name = 'EVM') \n",
    "    df_new = df_new.join(EVM_MA)\n",
    "\n",
    "    # Rate of Change (ROC)\n",
    "    n = 5\n",
    "    N = df['Close'].diff(n)\n",
    "    D = df['Close'].shift(n)\n",
    "    ROC = pd.Series(N/D,name='ROC')\n",
    "    df_new = df_new.join(ROC)\n",
    "    \n",
    "    # Force Index \n",
    "    ndays = 5\n",
    "    FI = pd.Series(df['Close'].diff(ndays) * data['Volume'], name = 'ForceIndex') \n",
    "    df_new = df_new.join(FI) \n",
    "\n",
    "    # the target\n",
    "    df_new['close'] = df['Close']\n",
    "    df_new = df_new.dropna(axis=0)\n",
    "    return df_new\n",
    "    \n",
    "\n",
    "    \n"
   ]
  },
  {
   "cell_type": "code",
   "execution_count": 22,
   "metadata": {},
   "outputs": [],
   "source": [
    "data=generate_features(data)\n",
    "data.to_csv('transformed_data.csv', encoding='utf-8', index=False)"
   ]
  },
  {
   "cell_type": "code",
   "execution_count": 23,
   "metadata": {},
   "outputs": [
    {
     "output_type": "execute_result",
     "data": {
      "text/plain": [
       "date          0\n",
       "open          0\n",
       "high          0\n",
       "low           0\n",
       "high_open     0\n",
       "open_low      0\n",
       "total_pips    0\n",
       "return_1      0\n",
       "return_5      0\n",
       "RSI           0\n",
       "UpperBB       0\n",
       "LowerBB       0\n",
       "MACD          0\n",
       "Signal        0\n",
       "EVM           0\n",
       "ROC           0\n",
       "ForceIndex    0\n",
       "close         0\n",
       "dtype: int64"
      ]
     },
     "metadata": {},
     "execution_count": 23
    }
   ],
   "source": [
    "data.isna().sum()    \n"
   ]
  },
  {
   "cell_type": "code",
   "execution_count": 24,
   "metadata": {},
   "outputs": [
    {
     "output_type": "execute_result",
     "data": {
      "text/plain": [
       "          date    open    high     low  high_open  open_low  total_pips  \\\n",
       "19  2011.03.02  1.3776  1.3890  1.3743     0.0114    0.0033      0.0147   \n",
       "20  2011.03.03  1.3865  1.3973  1.3833     0.0108    0.0032      0.0140   \n",
       "21  2011.03.04  1.3968  1.4006  1.3941     0.0038    0.0027      0.0065   \n",
       "22  2011.03.07  1.3994  1.4035  1.3955     0.0041    0.0039      0.0080   \n",
       "23  2011.03.08  1.3968  1.3988  1.3862     0.0020    0.0106      0.0126   \n",
       "\n",
       "    return_1  return_5        RSI   UpperBB   LowerBB      MACD    Signal  \\\n",
       "19  0.006461  0.008510  71.586716  1.387593  1.344617  0.004981  0.002451   \n",
       "20  0.007501  0.012320  76.234568  1.393238  1.342332  0.006497  0.003260   \n",
       "21  0.001217  0.017016  89.795918  1.398280  1.341350  0.007746  0.004157   \n",
       "22 -0.001287  0.011734  81.395349  1.402068  1.341422  0.008493  0.005024   \n",
       "23 -0.004582  0.009292  71.917808  1.404229  1.342051  0.008471  0.005714   \n",
       "\n",
       "         EVM       ROC  ForceIndex   close  \n",
       "19  0.028358  0.008510   1008.7740  1.3865  \n",
       "20  0.045849  0.012320   1357.9770  1.3969  \n",
       "21  0.052665  0.017016   1646.8686  1.3986  \n",
       "22  0.056328  0.011734   1197.5688  1.3968  \n",
       "23  0.026534  0.009292    926.8736  1.3904  "
      ],
      "text/html": "<div>\n<style scoped>\n    .dataframe tbody tr th:only-of-type {\n        vertical-align: middle;\n    }\n\n    .dataframe tbody tr th {\n        vertical-align: top;\n    }\n\n    .dataframe thead th {\n        text-align: right;\n    }\n</style>\n<table border=\"1\" class=\"dataframe\">\n  <thead>\n    <tr style=\"text-align: right;\">\n      <th></th>\n      <th>date</th>\n      <th>open</th>\n      <th>high</th>\n      <th>low</th>\n      <th>high_open</th>\n      <th>open_low</th>\n      <th>total_pips</th>\n      <th>return_1</th>\n      <th>return_5</th>\n      <th>RSI</th>\n      <th>UpperBB</th>\n      <th>LowerBB</th>\n      <th>MACD</th>\n      <th>Signal</th>\n      <th>EVM</th>\n      <th>ROC</th>\n      <th>ForceIndex</th>\n      <th>close</th>\n    </tr>\n  </thead>\n  <tbody>\n    <tr>\n      <th>19</th>\n      <td>2011.03.02</td>\n      <td>1.3776</td>\n      <td>1.3890</td>\n      <td>1.3743</td>\n      <td>0.0114</td>\n      <td>0.0033</td>\n      <td>0.0147</td>\n      <td>0.006461</td>\n      <td>0.008510</td>\n      <td>71.586716</td>\n      <td>1.387593</td>\n      <td>1.344617</td>\n      <td>0.004981</td>\n      <td>0.002451</td>\n      <td>0.028358</td>\n      <td>0.008510</td>\n      <td>1008.7740</td>\n      <td>1.3865</td>\n    </tr>\n    <tr>\n      <th>20</th>\n      <td>2011.03.03</td>\n      <td>1.3865</td>\n      <td>1.3973</td>\n      <td>1.3833</td>\n      <td>0.0108</td>\n      <td>0.0032</td>\n      <td>0.0140</td>\n      <td>0.007501</td>\n      <td>0.012320</td>\n      <td>76.234568</td>\n      <td>1.393238</td>\n      <td>1.342332</td>\n      <td>0.006497</td>\n      <td>0.003260</td>\n      <td>0.045849</td>\n      <td>0.012320</td>\n      <td>1357.9770</td>\n      <td>1.3969</td>\n    </tr>\n    <tr>\n      <th>21</th>\n      <td>2011.03.04</td>\n      <td>1.3968</td>\n      <td>1.4006</td>\n      <td>1.3941</td>\n      <td>0.0038</td>\n      <td>0.0027</td>\n      <td>0.0065</td>\n      <td>0.001217</td>\n      <td>0.017016</td>\n      <td>89.795918</td>\n      <td>1.398280</td>\n      <td>1.341350</td>\n      <td>0.007746</td>\n      <td>0.004157</td>\n      <td>0.052665</td>\n      <td>0.017016</td>\n      <td>1646.8686</td>\n      <td>1.3986</td>\n    </tr>\n    <tr>\n      <th>22</th>\n      <td>2011.03.07</td>\n      <td>1.3994</td>\n      <td>1.4035</td>\n      <td>1.3955</td>\n      <td>0.0041</td>\n      <td>0.0039</td>\n      <td>0.0080</td>\n      <td>-0.001287</td>\n      <td>0.011734</td>\n      <td>81.395349</td>\n      <td>1.402068</td>\n      <td>1.341422</td>\n      <td>0.008493</td>\n      <td>0.005024</td>\n      <td>0.056328</td>\n      <td>0.011734</td>\n      <td>1197.5688</td>\n      <td>1.3968</td>\n    </tr>\n    <tr>\n      <th>23</th>\n      <td>2011.03.08</td>\n      <td>1.3968</td>\n      <td>1.3988</td>\n      <td>1.3862</td>\n      <td>0.0020</td>\n      <td>0.0106</td>\n      <td>0.0126</td>\n      <td>-0.004582</td>\n      <td>0.009292</td>\n      <td>71.917808</td>\n      <td>1.404229</td>\n      <td>1.342051</td>\n      <td>0.008471</td>\n      <td>0.005714</td>\n      <td>0.026534</td>\n      <td>0.009292</td>\n      <td>926.8736</td>\n      <td>1.3904</td>\n    </tr>\n  </tbody>\n</table>\n</div>"
     },
     "metadata": {},
     "execution_count": 24
    }
   ],
   "source": [
    "data.head()"
   ]
  },
  {
   "cell_type": "code",
   "execution_count": 25,
   "metadata": {},
   "outputs": [
    {
     "output_type": "execute_result",
     "data": {
      "text/plain": [
       "open           1.207656\n",
       "high           1.212402\n",
       "low            1.203110\n",
       "high_open      0.004745\n",
       "open_low       0.004546\n",
       "total_pips     0.009292\n",
       "return_1      -0.000038\n",
       "return_5      -0.000188\n",
       "RSI           49.287252\n",
       "UpperBB        1.228587\n",
       "LowerBB        1.188048\n",
       "MACD          -0.000481\n",
       "Signal        -0.000489\n",
       "EVM           -0.004516\n",
       "ROC           -0.000188\n",
       "ForceIndex   -18.475339\n",
       "close          1.207696\n",
       "dtype: float64"
      ]
     },
     "metadata": {},
     "execution_count": 25
    }
   ],
   "source": [
    "# Check Mean of columns\n",
    "data.mean()"
   ]
  },
  {
   "cell_type": "code",
   "execution_count": 26,
   "metadata": {},
   "outputs": [
    {
     "output_type": "execute_result",
     "data": {
      "text/plain": [
       "open          1.183331e-02\n",
       "high          1.190194e-02\n",
       "low           1.170167e-02\n",
       "high_open     1.834217e-05\n",
       "open_low      1.898322e-05\n",
       "total_pips    2.639067e-05\n",
       "return_1      2.663546e-05\n",
       "return_5      1.303791e-04\n",
       "RSI           7.426056e+02\n",
       "UpperBB       1.239038e-02\n",
       "LowerBB       1.143274e-02\n",
       "MACD          4.330843e-05\n",
       "Signal        3.813590e-05\n",
       "EVM           8.113593e-03\n",
       "ROC           1.303791e-04\n",
       "ForceIndex    1.514421e+06\n",
       "close         1.183058e-02\n",
       "dtype: float64"
      ]
     },
     "metadata": {},
     "execution_count": 26
    }
   ],
   "source": [
    "# Check Variance of columns\n",
    "data.var()"
   ]
  },
  {
   "cell_type": "code",
   "execution_count": 27,
   "metadata": {},
   "outputs": [
    {
     "output_type": "execute_result",
     "data": {
      "text/plain": [
       "open             0.108781\n",
       "high             0.109096\n",
       "low              0.108174\n",
       "high_open        0.004283\n",
       "open_low         0.004357\n",
       "total_pips       0.005137\n",
       "return_1         0.005161\n",
       "return_5         0.011418\n",
       "RSI             27.250791\n",
       "UpperBB          0.111312\n",
       "LowerBB          0.106924\n",
       "MACD             0.006581\n",
       "Signal           0.006175\n",
       "EVM              0.090075\n",
       "ROC              0.011418\n",
       "ForceIndex    1230.618087\n",
       "close            0.108768\n",
       "dtype: float64"
      ]
     },
     "metadata": {},
     "execution_count": 27
    }
   ],
   "source": [
    "# Check Standard Deviations of columns\n",
    "data.std()"
   ]
  },
  {
   "cell_type": "code",
   "execution_count": 28,
   "metadata": {},
   "outputs": [
    {
     "output_type": "execute_result",
     "data": {
      "text/plain": [
       "(2546, 18)"
      ]
     },
     "metadata": {},
     "execution_count": 28
    }
   ],
   "source": [
    "data.shape"
   ]
  },
  {
   "cell_type": "code",
   "execution_count": null,
   "metadata": {},
   "outputs": [],
   "source": []
  }
 ],
 "metadata": {
  "kernelspec": {
   "name": "python3",
   "display_name": "Python 3.8.2 32-bit",
   "metadata": {
    "interpreter": {
     "hash": "a5b154bd190a2379b3840125015d36db3e1cad2b6ba837424ade093fcb6ac49c"
    }
   }
  },
  "language_info": {
   "codemirror_mode": {
    "name": "ipython",
    "version": 3
   },
   "file_extension": ".py",
   "mimetype": "text/x-python",
   "name": "python",
   "nbconvert_exporter": "python",
   "pygments_lexer": "ipython3",
   "version": "3.8.2-final"
  }
 },
 "nbformat": 4,
 "nbformat_minor": 2
}