{
 "cells": [
  {
   "cell_type": "code",
   "execution_count": 1,
   "metadata": {},
   "outputs": [
    {
     "output_type": "stream",
     "name": "stderr",
     "text": [
      "[nltk_data] Downloading package vader_lexicon to\n[nltk_data]     /home/khuzaima/nltk_data...\n[nltk_data]   Package vader_lexicon is already up-to-date!\n[nltk_data] Downloading package stopwords to\n[nltk_data]     /home/khuzaima/nltk_data...\n[nltk_data]   Package stopwords is already up-to-date!\n[nltk_data] Downloading package punkt to /home/khuzaima/nltk_data...\n[nltk_data]   Package punkt is already up-to-date!\n"
     ]
    },
    {
     "output_type": "execute_result",
     "data": {
      "text/plain": [
       "True"
      ]
     },
     "metadata": {},
     "execution_count": 1
    }
   ],
   "source": [
    "import numpy as np\n",
    "import pandas as pd\n",
    "import matplotlib.pyplot as plt\n",
    "import seaborn as sns\n",
    "import sklearn\n",
    "\n",
    "from sklearn.metrics import mean_squared_error\n",
    "from sklearn.preprocessing import MinMaxScaler\n",
    "\n",
    "from tensorflow.keras.models import Sequential\n",
    "from tensorflow.keras.layers import Dense, LSTM, Dropout, Dense, Activation\n",
    "\n",
    "# For Sentiment Analysis\n",
    "import nltk\n",
    "import re\n",
    "from nltk.corpus import stopwords\n",
    "from nltk.tokenize import word_tokenize\n",
    "from nltk.sentiment.vader import SentimentIntensityAnalyzer\n",
    "from textblob import TextBlob\n",
    "from nltk.stem.snowball import SnowballStemmer\n",
    "stemmer = SnowballStemmer(\"english\")\n",
    "nltk.download('vader_lexicon')\n",
    "nltk.download('stopwords')\n",
    "nltk.download('punkt')"
   ]
  },
  {
   "cell_type": "code",
   "execution_count": 79,
   "metadata": {},
   "outputs": [
    {
     "output_type": "execute_result",
     "data": {
      "text/plain": [
       "                                                        Title  \\\n",
       "Date                                                            \n",
       "2019-01-18  Forex - U.S. Dollar Rises as Consumer Optimism...   \n",
       "2019-01-18  Forex - Upbeat U.S. Data Can't Help Dollar as ...   \n",
       "2019-01-17  Forex - U.S. Dollar Remains Steady as Jobless ...   \n",
       "2019-01-17  Forex - Dollar Pushes Higher; Pound Slips as R...   \n",
       "2019-01-17   World stocks rise; sterling up ahead of May vote   \n",
       "\n",
       "                                                      Article  \n",
       "Date                                                           \n",
       "2019-01-18  © Reuters.\\nInvesting.com - The greenback pick...  \n",
       "2019-01-18  © Reuters.\\nInvesting.com – The U.S. dollar li...  \n",
       "2019-01-17  © Reuters.\\nInvesting.com - The greenback was ...  \n",
       "2019-01-17  © Reuters.\\nInvesting.com - The U.S. dollar pu...  \n",
       "2019-01-17  © Reuters. A trader works on the floor at the ...  "
      ],
      "text/html": "<div>\n<style scoped>\n    .dataframe tbody tr th:only-of-type {\n        vertical-align: middle;\n    }\n\n    .dataframe tbody tr th {\n        vertical-align: top;\n    }\n\n    .dataframe thead th {\n        text-align: right;\n    }\n</style>\n<table border=\"1\" class=\"dataframe\">\n  <thead>\n    <tr style=\"text-align: right;\">\n      <th></th>\n      <th>Title</th>\n      <th>Article</th>\n    </tr>\n    <tr>\n      <th>Date</th>\n      <th></th>\n      <th></th>\n    </tr>\n  </thead>\n  <tbody>\n    <tr>\n      <th>2019-01-18</th>\n      <td>Forex - U.S. Dollar Rises as Consumer Optimism...</td>\n      <td>© Reuters.\\nInvesting.com - The greenback pick...</td>\n    </tr>\n    <tr>\n      <th>2019-01-18</th>\n      <td>Forex - Upbeat U.S. Data Can't Help Dollar as ...</td>\n      <td>© Reuters.\\nInvesting.com – The U.S. dollar li...</td>\n    </tr>\n    <tr>\n      <th>2019-01-17</th>\n      <td>Forex - U.S. Dollar Remains Steady as Jobless ...</td>\n      <td>© Reuters.\\nInvesting.com - The greenback was ...</td>\n    </tr>\n    <tr>\n      <th>2019-01-17</th>\n      <td>Forex - Dollar Pushes Higher; Pound Slips as R...</td>\n      <td>© Reuters.\\nInvesting.com - The U.S. dollar pu...</td>\n    </tr>\n    <tr>\n      <th>2019-01-17</th>\n      <td>World stocks rise; sterling up ahead of May vote</td>\n      <td>© Reuters. A trader works on the floor at the ...</td>\n    </tr>\n  </tbody>\n</table>\n</div>"
     },
     "metadata": {},
     "execution_count": 79
    }
   ],
   "source": [
    "df_news = pd.read_csv('eurusd_news.csv',parse_dates=True,skipinitialspace=True)\n",
    "## Using the data on from 2011 and onward\n",
    "# df_news = df_news[(df_news['Date'] > \"2011-01-01\")]\n",
    "df_news.drop(columns='Unnamed: 0',inplace=True)\n",
    "df_news['Date'] = pd.to_datetime(df_news['Date'], infer_datetime_format=True)\n",
    "df_news.set_index('Date',inplace=True)\n",
    "df_news.head()"
   ]
  },
  {
   "cell_type": "code",
   "execution_count": 80,
   "metadata": {},
   "outputs": [
    {
     "output_type": "execute_result",
     "data": {
      "text/plain": [
       "Date\n",
       "2019-01-18    Forex - U.S. Dollar Rises as Consumer Optimism...\n",
       "2019-01-18    Forex - Upbeat U.S. Data Can't Help Dollar as ...\n",
       "2019-01-17    Forex - U.S. Dollar Remains Steady as Jobless ...\n",
       "2019-01-17    Forex - Dollar Pushes Higher; Pound Slips as R...\n",
       "2019-01-17     World stocks rise; sterling up ahead of May vote\n",
       "                                    ...                        \n",
       "2018-01-02    Forex - Dollar Remains at 3-Month Lows in Quie...\n",
       "2018-01-02        Forex - Weaker Dollar Hits Fresh 3-Month Lows\n",
       "2018-01-01    Forex - Aussie Gains In Asia After Caixin Manu...\n",
       "2018-01-01    Forex - Dollar Steady In Early Asia Ahead OF C...\n",
       "2018-01-01                Forex - Weekly Outlook: January 2 - 5\n",
       "Name: Title, Length: 1077, dtype: object"
      ]
     },
     "metadata": {},
     "execution_count": 80
    }
   ],
   "source": [
    "df_news.groupby(['Date'])['Title'].head()"
   ]
  },
  {
   "cell_type": "code",
   "execution_count": 81,
   "metadata": {},
   "outputs": [
    {
     "output_type": "execute_result",
     "data": {
      "text/plain": [
       "Date\n",
       "2019-01-18    © Reuters.\\nInvesting.com - The greenback pick...\n",
       "2019-01-18    © Reuters.\\nInvesting.com – The U.S. dollar li...\n",
       "2019-01-17    © Reuters.\\nInvesting.com - The greenback was ...\n",
       "2019-01-17    © Reuters.\\nInvesting.com - The U.S. dollar pu...\n",
       "2019-01-17    © Reuters. A trader works on the floor at the ...\n",
       "                                    ...                        \n",
       "2018-01-02    Dollar still broadly lower as traders return t...\n",
       "2018-01-02    © Reuters. Weaker dollar hits fresh 3-month lo...\n",
       "2018-01-01    Aussie gains in Asia\\nInvesting.com - The Auss...\n",
       "2018-01-01    Dollar steady in Asia\\nInvesting.com - The dol...\n",
       "2018-01-01    © Reuters. Dollar falls to 3-month lows on Fri...\n",
       "Name: Article, Length: 1077, dtype: object"
      ]
     },
     "metadata": {},
     "execution_count": 81
    }
   ],
   "source": [
    "df_news.groupby(['Date'])['Article'].head()"
   ]
  },
  {
   "cell_type": "code",
   "execution_count": 82,
   "metadata": {},
   "outputs": [
    {
     "output_type": "execute_result",
     "data": {
      "text/plain": [
       "                                                        Title  \\\n",
       "Date                                                            \n",
       "2019-01-18  Forex - U.S. Dollar Rises as Consumer Optimism...   \n",
       "2019-01-17  Forex - U.S. Dollar Remains Steady as Jobless ...   \n",
       "2019-01-16  Forex - Sterling Rebounds on \"Diminished\" Brex...   \n",
       "2019-01-15  Forex - U.S. Dollar Rises After Weak German Da...   \n",
       "2019-01-14  Forex - U.S. Dollar Flat as Yen Rebounds Forex...   \n",
       "...                                                       ...   \n",
       "2018-01-05  Forex- Dollar Rises Despite Fall in Jobs, Serv...   \n",
       "2018-01-04  Forex - Upbeat Economic Data Fails To Rescue D...   \n",
       "2018-01-03  Dollar Set to Snap 10-Day Losing Streak After ...   \n",
       "2018-01-02  Forex - Dollar Weakness Continues Into 2018, F...   \n",
       "2018-01-01  Forex - Aussie Gains In Asia After Caixin Manu...   \n",
       "\n",
       "                                                      Article  \n",
       "Date                                                           \n",
       "2019-01-18  © Reuters.\\nInvesting.com - The greenback pick...  \n",
       "2019-01-17  © Reuters.\\nInvesting.com - The greenback was ...  \n",
       "2019-01-16  © Reuters.\\nInvesting.com - The pound steadied...  \n",
       "2019-01-15  © Reuters.\\nInvesting.com - The greenback rose...  \n",
       "2019-01-14  © Reuters.\\nInvesting.com - The greenback was ...  \n",
       "...                                                       ...  \n",
       "2018-01-05  The U.S. dollar rallied on Friday.\\nInvesting....  \n",
       "2018-01-04  © Reuters.\\nInvesting.com – The dollar continu...  \n",
       "2018-01-03  © Reuters.\\nInvesting.com – The dollar rebound...  \n",
       "2018-01-02  Investing.com – The dollar fell to more than t...  \n",
       "2018-01-01  Aussie gains in Asia\\nInvesting.com - The Auss...  \n",
       "\n",
       "[319 rows x 2 columns]"
      ],
      "text/html": "<div>\n<style scoped>\n    .dataframe tbody tr th:only-of-type {\n        vertical-align: middle;\n    }\n\n    .dataframe tbody tr th {\n        vertical-align: top;\n    }\n\n    .dataframe thead th {\n        text-align: right;\n    }\n</style>\n<table border=\"1\" class=\"dataframe\">\n  <thead>\n    <tr style=\"text-align: right;\">\n      <th></th>\n      <th>Title</th>\n      <th>Article</th>\n    </tr>\n    <tr>\n      <th>Date</th>\n      <th></th>\n      <th></th>\n    </tr>\n  </thead>\n  <tbody>\n    <tr>\n      <th>2019-01-18</th>\n      <td>Forex - U.S. Dollar Rises as Consumer Optimism...</td>\n      <td>© Reuters.\\nInvesting.com - The greenback pick...</td>\n    </tr>\n    <tr>\n      <th>2019-01-17</th>\n      <td>Forex - U.S. Dollar Remains Steady as Jobless ...</td>\n      <td>© Reuters.\\nInvesting.com - The greenback was ...</td>\n    </tr>\n    <tr>\n      <th>2019-01-16</th>\n      <td>Forex - Sterling Rebounds on \"Diminished\" Brex...</td>\n      <td>© Reuters.\\nInvesting.com - The pound steadied...</td>\n    </tr>\n    <tr>\n      <th>2019-01-15</th>\n      <td>Forex - U.S. Dollar Rises After Weak German Da...</td>\n      <td>© Reuters.\\nInvesting.com - The greenback rose...</td>\n    </tr>\n    <tr>\n      <th>2019-01-14</th>\n      <td>Forex - U.S. Dollar Flat as Yen Rebounds Forex...</td>\n      <td>© Reuters.\\nInvesting.com - The greenback was ...</td>\n    </tr>\n    <tr>\n      <th>...</th>\n      <td>...</td>\n      <td>...</td>\n    </tr>\n    <tr>\n      <th>2018-01-05</th>\n      <td>Forex- Dollar Rises Despite Fall in Jobs, Serv...</td>\n      <td>The U.S. dollar rallied on Friday.\\nInvesting....</td>\n    </tr>\n    <tr>\n      <th>2018-01-04</th>\n      <td>Forex - Upbeat Economic Data Fails To Rescue D...</td>\n      <td>© Reuters.\\nInvesting.com – The dollar continu...</td>\n    </tr>\n    <tr>\n      <th>2018-01-03</th>\n      <td>Dollar Set to Snap 10-Day Losing Streak After ...</td>\n      <td>© Reuters.\\nInvesting.com – The dollar rebound...</td>\n    </tr>\n    <tr>\n      <th>2018-01-02</th>\n      <td>Forex - Dollar Weakness Continues Into 2018, F...</td>\n      <td>Investing.com – The dollar fell to more than t...</td>\n    </tr>\n    <tr>\n      <th>2018-01-01</th>\n      <td>Forex - Aussie Gains In Asia After Caixin Manu...</td>\n      <td>Aussie gains in Asia\\nInvesting.com - The Auss...</td>\n    </tr>\n  </tbody>\n</table>\n<p>319 rows × 2 columns</p>\n</div>"
     },
     "metadata": {},
     "execution_count": 82
    }
   ],
   "source": [
    "df_news['Title'] = df_news.groupby(['Date'])['Title'].transform(lambda x : ' '.join(x))\n",
    "df_news['Article'] = df_news.groupby(['Date'])['Article'].transform(lambda x : ' '.join(x)) \n",
    "df_news = df_news.drop_duplicates() \n",
    "df_news"
   ]
  },
  {
   "cell_type": "code",
   "execution_count": 83,
   "metadata": {},
   "outputs": [],
   "source": [
    "# Tokenize and stem text\n",
    "def tokenize_and_stem(text):\n",
    "    # first tokenize by sentence, then by word to ensure that punctuation is caught as it's own token\n",
    "    tokens = [word for sent in nltk.sent_tokenize(text) for word in nltk.word_tokenize(sent)]\n",
    "    filtered_tokens = []\n",
    "\n",
    "    stop_words=set(stopwords.words('english'))\n",
    "    # filter out any tokens not containing letters (e.g., numeric tokens, raw punctuation)\n",
    "    for token in tokens:\n",
    "        if re.search('[a-zA-Z]', token) and token not in stop_words:\n",
    "            filtered_tokens.append(token)\n",
    "    stems = [stemmer.stem(t) for t in filtered_tokens]\n",
    "    stems = ' '.join(stems)\n",
    "    return stems\n",
    "\n",
    "# Only tokenize the text\n",
    "def tokenize_only(text):\n",
    "    # first tokenize by sentence, then by word to ensure that punctuation is caught as it's own token\n",
    "    tokens = [word.lower() for sent in nltk.sent_tokenize(text) for word in nltk.word_tokenize(sent)]\n",
    "    top_words=set(stopwords.words('english'))\n",
    "    filtered_tokens = []\n",
    "    # filter out any tokens not containing letters (e.g., numeric tokens, raw punctuation)\n",
    "    for token in tokens:\n",
    "        if re.search('[a-zA-Z]', token):\n",
    "            filtered_tokens.append(token)\n",
    "    filtered_tokens = ' '.join(filtered_tokens)\n",
    "    return filtered_tokens\n"
   ]
  },
  {
   "cell_type": "code",
   "execution_count": 84,
   "metadata": {},
   "outputs": [
    {
     "output_type": "execute_result",
     "data": {
      "text/plain": [
       "\"Forex - U.S. Dollar Rises as Consumer Optimism Falls Forex - Upbeat U.S. Data Can't Help Dollar as Sterling Reigns Supreme\""
      ]
     },
     "metadata": {},
     "execution_count": 84
    }
   ],
   "source": [
    "df_news.iloc[0]['Title']"
   ]
  },
  {
   "cell_type": "code",
   "execution_count": 85,
   "metadata": {},
   "outputs": [
    {
     "output_type": "stream",
     "name": "stdout",
     "text": [
      "forex u.s. dollar rise consum optim fall forex upbeat u.s. data ca n't help dollar sterl reign suprem\n"
     ]
    }
   ],
   "source": [
    "print(tokenize_and_stem(df_news.iloc[0]['Title']))"
   ]
  },
  {
   "cell_type": "code",
   "execution_count": 86,
   "metadata": {},
   "outputs": [
    {
     "output_type": "stream",
     "name": "stdout",
     "text": [
      "forex u.s. dollar rises as consumer optimism falls forex upbeat u.s. data ca n't help dollar as sterling reigns supreme\n"
     ]
    }
   ],
   "source": [
    "print(tokenize_only(df_news.iloc[0]['Title']))"
   ]
  },
  {
   "cell_type": "code",
   "execution_count": 87,
   "metadata": {},
   "outputs": [
    {
     "output_type": "execute_result",
     "data": {
      "text/plain": [
       "                                                        Title  \\\n",
       "Date                                                            \n",
       "2019-01-18  forex u.s. dollar rise consum optim fall forex...   \n",
       "2019-01-17  forex u.s. dollar remain steadi jobless claim ...   \n",
       "2019-01-16  forex sterl rebound diminish brexit risk dolla...   \n",
       "2019-01-15  forex u.s. dollar rise after weak german data ...   \n",
       "2019-01-14  forex u.s. dollar flat yen rebound forex yen g...   \n",
       "...                                                       ...   \n",
       "2018-01-05  forex- dollar rise despit fall job servic sect...   \n",
       "2018-01-04  forex upbeat econom data fail to rescu dollar ...   \n",
       "2018-01-03  dollar set snap 10-day lose streak after stron...   \n",
       "2018-01-02  forex dollar weak continu into fall to more th...   \n",
       "2018-01-01  forex aussi gain in asia after caixin manufact...   \n",
       "\n",
       "                                                      Article  \n",
       "Date                                                           \n",
       "2019-01-18  reuter investing.com the greenback pick steam ...  \n",
       "2019-01-17  reuter investing.com the greenback steadi thur...  \n",
       "2019-01-16  reuter investing.com the pound steadi wednesda...  \n",
       "2019-01-15  reuter investing.com the greenback rose tuesda...  \n",
       "2019-01-14  reuter investing.com the greenback flat monday...  \n",
       "...                                                       ...  \n",
       "2018-01-05  the u.s. dollar ralli friday investing.com the...  \n",
       "2018-01-04  reuter investing.com the dollar continu langui...  \n",
       "2018-01-03  reuter investing.com the dollar rebound near f...  \n",
       "2018-01-02  investing.com the dollar fell three-month low ...  \n",
       "2018-01-01  aussi gain asia investing.com the aussi gain s...  \n",
       "\n",
       "[319 rows x 2 columns]"
      ],
      "text/html": "<div>\n<style scoped>\n    .dataframe tbody tr th:only-of-type {\n        vertical-align: middle;\n    }\n\n    .dataframe tbody tr th {\n        vertical-align: top;\n    }\n\n    .dataframe thead th {\n        text-align: right;\n    }\n</style>\n<table border=\"1\" class=\"dataframe\">\n  <thead>\n    <tr style=\"text-align: right;\">\n      <th></th>\n      <th>Title</th>\n      <th>Article</th>\n    </tr>\n    <tr>\n      <th>Date</th>\n      <th></th>\n      <th></th>\n    </tr>\n  </thead>\n  <tbody>\n    <tr>\n      <th>2019-01-18</th>\n      <td>forex u.s. dollar rise consum optim fall forex...</td>\n      <td>reuter investing.com the greenback pick steam ...</td>\n    </tr>\n    <tr>\n      <th>2019-01-17</th>\n      <td>forex u.s. dollar remain steadi jobless claim ...</td>\n      <td>reuter investing.com the greenback steadi thur...</td>\n    </tr>\n    <tr>\n      <th>2019-01-16</th>\n      <td>forex sterl rebound diminish brexit risk dolla...</td>\n      <td>reuter investing.com the pound steadi wednesda...</td>\n    </tr>\n    <tr>\n      <th>2019-01-15</th>\n      <td>forex u.s. dollar rise after weak german data ...</td>\n      <td>reuter investing.com the greenback rose tuesda...</td>\n    </tr>\n    <tr>\n      <th>2019-01-14</th>\n      <td>forex u.s. dollar flat yen rebound forex yen g...</td>\n      <td>reuter investing.com the greenback flat monday...</td>\n    </tr>\n    <tr>\n      <th>...</th>\n      <td>...</td>\n      <td>...</td>\n    </tr>\n    <tr>\n      <th>2018-01-05</th>\n      <td>forex- dollar rise despit fall job servic sect...</td>\n      <td>the u.s. dollar ralli friday investing.com the...</td>\n    </tr>\n    <tr>\n      <th>2018-01-04</th>\n      <td>forex upbeat econom data fail to rescu dollar ...</td>\n      <td>reuter investing.com the dollar continu langui...</td>\n    </tr>\n    <tr>\n      <th>2018-01-03</th>\n      <td>dollar set snap 10-day lose streak after stron...</td>\n      <td>reuter investing.com the dollar rebound near f...</td>\n    </tr>\n    <tr>\n      <th>2018-01-02</th>\n      <td>forex dollar weak continu into fall to more th...</td>\n      <td>investing.com the dollar fell three-month low ...</td>\n    </tr>\n    <tr>\n      <th>2018-01-01</th>\n      <td>forex aussi gain in asia after caixin manufact...</td>\n      <td>aussi gain asia investing.com the aussi gain s...</td>\n    </tr>\n  </tbody>\n</table>\n<p>319 rows × 2 columns</p>\n</div>"
     },
     "metadata": {},
     "execution_count": 87
    }
   ],
   "source": [
    "df_news[\"Title\"] = [tokenize_and_stem(i) for i in df_news['Title']]\n",
    "df_news[\"Article\"] = [tokenize_and_stem(i) for i in df_news['Article']]\n",
    "# df_news[\"Title\"] = [tokenize_only(i) for i in df_news['Title']]\n",
    "# df_news[\"Article\"] = [tokenize_only(i) for i in df_news['Article']]\n",
    "df_news"
   ]
  },
  {
   "cell_type": "code",
   "execution_count": 95,
   "metadata": {},
   "outputs": [
    {
     "output_type": "stream",
     "name": "stdout",
     "text": [
      "6\n"
     ]
    }
   ],
   "source": [
    "counter = 0\n",
    "for i in df_news['Title']:\n",
    "    if \"miss\" in i:\n",
    "        # print(i)\n",
    "        counter = counter+1\n",
    "print(counter)"
   ]
  },
  {
   "cell_type": "code",
   "execution_count": 91,
   "metadata": {},
   "outputs": [],
   "source": [
    "def getSubjectivity(text):\n",
    "  return TextBlob(text).sentiment.subjectivity\n",
    "\n",
    "def getPolarity(text):\n",
    "  return  TextBlob(text).sentiment.polarity"
   ]
  },
  {
   "cell_type": "code",
   "execution_count": 92,
   "metadata": {},
   "outputs": [
    {
     "output_type": "execute_result",
     "data": {
      "text/plain": [
       "                                                        Title  \\\n",
       "Date                                                            \n",
       "2019-01-18  forex u.s. dollar rise consum optim fall forex...   \n",
       "2019-01-17  forex u.s. dollar remain steadi jobless claim ...   \n",
       "2019-01-16  forex sterl rebound diminish brexit risk dolla...   \n",
       "2019-01-15  forex u.s. dollar rise after weak german data ...   \n",
       "2019-01-14  forex u.s. dollar flat yen rebound forex yen g...   \n",
       "...                                                       ...   \n",
       "2018-01-05  forex- dollar rise despit fall job servic sect...   \n",
       "2018-01-04  forex upbeat econom data fail to rescu dollar ...   \n",
       "2018-01-03  dollar set snap 10-day lose streak after stron...   \n",
       "2018-01-02  forex dollar weak continu into fall to more th...   \n",
       "2018-01-01  forex aussi gain in asia after caixin manufact...   \n",
       "\n",
       "                                                      Article  \\\n",
       "Date                                                            \n",
       "2019-01-18  reuter investing.com the greenback pick steam ...   \n",
       "2019-01-17  reuter investing.com the greenback steadi thur...   \n",
       "2019-01-16  reuter investing.com the pound steadi wednesda...   \n",
       "2019-01-15  reuter investing.com the greenback rose tuesda...   \n",
       "2019-01-14  reuter investing.com the greenback flat monday...   \n",
       "...                                                       ...   \n",
       "2018-01-05  the u.s. dollar ralli friday investing.com the...   \n",
       "2018-01-04  reuter investing.com the dollar continu langui...   \n",
       "2018-01-03  reuter investing.com the dollar rebound near f...   \n",
       "2018-01-02  investing.com the dollar fell three-month low ...   \n",
       "2018-01-01  aussi gain asia investing.com the aussi gain s...   \n",
       "\n",
       "            Subjectivity_title  Polarity_title  Subjectivity_article  \\\n",
       "Date                                                                   \n",
       "2019-01-18            0.000000        0.000000              0.516381   \n",
       "2019-01-17            0.400000        0.125000              0.355764   \n",
       "2019-01-16            0.312500        0.112500              0.380771   \n",
       "2019-01-15            0.506250       -0.143750              0.331946   \n",
       "2019-01-14            0.125000       -0.025000              0.332223   \n",
       "...                        ...             ...                   ...   \n",
       "2018-01-05            0.500000        0.250000              0.376388   \n",
       "2018-01-04            0.388056       -0.056508              0.417297   \n",
       "2018-01-03            0.472619        0.102976              0.328112   \n",
       "2018-01-02            0.412315        0.071944              0.439044   \n",
       "2018-01-01            0.000000        0.000000              0.346505   \n",
       "\n",
       "            Polarity_article  \n",
       "Date                          \n",
       "2019-01-18          0.122429  \n",
       "2019-01-17          0.058835  \n",
       "2019-01-16          0.014656  \n",
       "2019-01-15          0.095426  \n",
       "2019-01-14          0.038962  \n",
       "...                      ...  \n",
       "2018-01-05          0.102737  \n",
       "2018-01-04          0.072682  \n",
       "2018-01-03          0.068333  \n",
       "2018-01-02          0.137370  \n",
       "2018-01-01          0.033735  \n",
       "\n",
       "[319 rows x 6 columns]"
      ],
      "text/html": "<div>\n<style scoped>\n    .dataframe tbody tr th:only-of-type {\n        vertical-align: middle;\n    }\n\n    .dataframe tbody tr th {\n        vertical-align: top;\n    }\n\n    .dataframe thead th {\n        text-align: right;\n    }\n</style>\n<table border=\"1\" class=\"dataframe\">\n  <thead>\n    <tr style=\"text-align: right;\">\n      <th></th>\n      <th>Title</th>\n      <th>Article</th>\n      <th>Subjectivity_title</th>\n      <th>Polarity_title</th>\n      <th>Subjectivity_article</th>\n      <th>Polarity_article</th>\n    </tr>\n    <tr>\n      <th>Date</th>\n      <th></th>\n      <th></th>\n      <th></th>\n      <th></th>\n      <th></th>\n      <th></th>\n    </tr>\n  </thead>\n  <tbody>\n    <tr>\n      <th>2019-01-18</th>\n      <td>forex u.s. dollar rise consum optim fall forex...</td>\n      <td>reuter investing.com the greenback pick steam ...</td>\n      <td>0.000000</td>\n      <td>0.000000</td>\n      <td>0.516381</td>\n      <td>0.122429</td>\n    </tr>\n    <tr>\n      <th>2019-01-17</th>\n      <td>forex u.s. dollar remain steadi jobless claim ...</td>\n      <td>reuter investing.com the greenback steadi thur...</td>\n      <td>0.400000</td>\n      <td>0.125000</td>\n      <td>0.355764</td>\n      <td>0.058835</td>\n    </tr>\n    <tr>\n      <th>2019-01-16</th>\n      <td>forex sterl rebound diminish brexit risk dolla...</td>\n      <td>reuter investing.com the pound steadi wednesda...</td>\n      <td>0.312500</td>\n      <td>0.112500</td>\n      <td>0.380771</td>\n      <td>0.014656</td>\n    </tr>\n    <tr>\n      <th>2019-01-15</th>\n      <td>forex u.s. dollar rise after weak german data ...</td>\n      <td>reuter investing.com the greenback rose tuesda...</td>\n      <td>0.506250</td>\n      <td>-0.143750</td>\n      <td>0.331946</td>\n      <td>0.095426</td>\n    </tr>\n    <tr>\n      <th>2019-01-14</th>\n      <td>forex u.s. dollar flat yen rebound forex yen g...</td>\n      <td>reuter investing.com the greenback flat monday...</td>\n      <td>0.125000</td>\n      <td>-0.025000</td>\n      <td>0.332223</td>\n      <td>0.038962</td>\n    </tr>\n    <tr>\n      <th>...</th>\n      <td>...</td>\n      <td>...</td>\n      <td>...</td>\n      <td>...</td>\n      <td>...</td>\n      <td>...</td>\n    </tr>\n    <tr>\n      <th>2018-01-05</th>\n      <td>forex- dollar rise despit fall job servic sect...</td>\n      <td>the u.s. dollar ralli friday investing.com the...</td>\n      <td>0.500000</td>\n      <td>0.250000</td>\n      <td>0.376388</td>\n      <td>0.102737</td>\n    </tr>\n    <tr>\n      <th>2018-01-04</th>\n      <td>forex upbeat econom data fail to rescu dollar ...</td>\n      <td>reuter investing.com the dollar continu langui...</td>\n      <td>0.388056</td>\n      <td>-0.056508</td>\n      <td>0.417297</td>\n      <td>0.072682</td>\n    </tr>\n    <tr>\n      <th>2018-01-03</th>\n      <td>dollar set snap 10-day lose streak after stron...</td>\n      <td>reuter investing.com the dollar rebound near f...</td>\n      <td>0.472619</td>\n      <td>0.102976</td>\n      <td>0.328112</td>\n      <td>0.068333</td>\n    </tr>\n    <tr>\n      <th>2018-01-02</th>\n      <td>forex dollar weak continu into fall to more th...</td>\n      <td>investing.com the dollar fell three-month low ...</td>\n      <td>0.412315</td>\n      <td>0.071944</td>\n      <td>0.439044</td>\n      <td>0.137370</td>\n    </tr>\n    <tr>\n      <th>2018-01-01</th>\n      <td>forex aussi gain in asia after caixin manufact...</td>\n      <td>aussi gain asia investing.com the aussi gain s...</td>\n      <td>0.000000</td>\n      <td>0.000000</td>\n      <td>0.346505</td>\n      <td>0.033735</td>\n    </tr>\n  </tbody>\n</table>\n<p>319 rows × 6 columns</p>\n</div>"
     },
     "metadata": {},
     "execution_count": 92
    }
   ],
   "source": [
    "#Adding subjectivity and polarity columns\n",
    "df_news['Subjectivity_title'] = df_news['Title'].apply(getSubjectivity)\n",
    "df_news['Polarity_title'] = df_news['Title'].apply(getPolarity)\n",
    "df_news['Subjectivity_article'] = df_news['Article'].apply(getSubjectivity)\n",
    "df_news['Polarity_article'] = df_news['Article'].apply(getPolarity)\n",
    "df_news"
   ]
  },
  {
   "cell_type": "code",
   "execution_count": 96,
   "metadata": {},
   "outputs": [
    {
     "output_type": "execute_result",
     "data": {
      "text/plain": [
       "                                                        Title  \\\n",
       "Date                                                            \n",
       "2019-01-18  forex u.s. dollar rise consum optim fall forex...   \n",
       "2019-01-17  forex u.s. dollar remain steadi jobless claim ...   \n",
       "2019-01-16  forex sterl rebound diminish brexit risk dolla...   \n",
       "2019-01-15  forex u.s. dollar rise after weak german data ...   \n",
       "2019-01-14  forex u.s. dollar flat yen rebound forex yen g...   \n",
       "...                                                       ...   \n",
       "2018-01-05  forex- dollar rise despit fall job servic sect...   \n",
       "2018-01-04  forex upbeat econom data fail to rescu dollar ...   \n",
       "2018-01-03  dollar set snap 10-day lose streak after stron...   \n",
       "2018-01-02  forex dollar weak continu into fall to more th...   \n",
       "2018-01-01  forex aussi gain in asia after caixin manufact...   \n",
       "\n",
       "                                                      Article  \\\n",
       "Date                                                            \n",
       "2019-01-18  reuter investing.com the greenback pick steam ...   \n",
       "2019-01-17  reuter investing.com the greenback steadi thur...   \n",
       "2019-01-16  reuter investing.com the pound steadi wednesda...   \n",
       "2019-01-15  reuter investing.com the greenback rose tuesda...   \n",
       "2019-01-14  reuter investing.com the greenback flat monday...   \n",
       "...                                                       ...   \n",
       "2018-01-05  the u.s. dollar ralli friday investing.com the...   \n",
       "2018-01-04  reuter investing.com the dollar continu langui...   \n",
       "2018-01-03  reuter investing.com the dollar rebound near f...   \n",
       "2018-01-02  investing.com the dollar fell three-month low ...   \n",
       "2018-01-01  aussi gain asia investing.com the aussi gain s...   \n",
       "\n",
       "            Subjectivity_title  Polarity_title  Subjectivity_article  \\\n",
       "Date                                                                   \n",
       "2019-01-18            0.000000        0.000000              0.516381   \n",
       "2019-01-17            0.400000        0.125000              0.355764   \n",
       "2019-01-16            0.312500        0.112500              0.380771   \n",
       "2019-01-15            0.506250       -0.143750              0.331946   \n",
       "2019-01-14            0.125000       -0.025000              0.332223   \n",
       "...                        ...             ...                   ...   \n",
       "2018-01-05            0.500000        0.250000              0.376388   \n",
       "2018-01-04            0.388056       -0.056508              0.417297   \n",
       "2018-01-03            0.472619        0.102976              0.328112   \n",
       "2018-01-02            0.412315        0.071944              0.439044   \n",
       "2018-01-01            0.000000        0.000000              0.346505   \n",
       "\n",
       "            Polarity_article  Compound_title  Negative_title  Neutral_title  \\\n",
       "Date                                                                          \n",
       "2019-01-18          0.122429         -0.3089           0.471          0.068   \n",
       "2019-01-17          0.058835          0.9992           0.033          0.173   \n",
       "2019-01-16          0.014656         -0.8020           0.286          0.714   \n",
       "2019-01-15          0.095426          0.9998           0.012          0.140   \n",
       "2019-01-14          0.038962          0.3182           0.098          0.744   \n",
       "...                      ...             ...             ...            ...   \n",
       "2018-01-05          0.102737         -0.3612           0.422          0.158   \n",
       "2018-01-04          0.072682          0.9992           0.053          0.264   \n",
       "2018-01-03          0.068333          0.4404           0.114          0.741   \n",
       "2018-01-02          0.137370         -0.9994           0.778          0.207   \n",
       "2018-01-01          0.033735          0.7269           0.000          0.797   \n",
       "\n",
       "            Positive_title  Compound_article  Negative_article  \\\n",
       "Date                                                             \n",
       "2019-01-18           0.461            0.9995             0.251   \n",
       "2019-01-17           0.794            0.5584             0.172   \n",
       "2019-01-16           0.000           -0.9998             0.378   \n",
       "2019-01-15           0.848           -0.9999             0.321   \n",
       "2019-01-14           0.158           -0.9998             0.222   \n",
       "...                    ...               ...               ...   \n",
       "2018-01-05           0.420            1.0000             0.091   \n",
       "2018-01-04           0.683            0.9999             0.177   \n",
       "2018-01-03           0.145            1.0000             0.050   \n",
       "2018-01-02           0.015           -0.9990             0.342   \n",
       "2018-01-01           0.203            0.9999             0.130   \n",
       "\n",
       "            Neutral_article  Positive_article  \n",
       "Date                                           \n",
       "2019-01-18            0.358             0.391  \n",
       "2019-01-17            0.658             0.170  \n",
       "2019-01-16            0.369             0.253  \n",
       "2019-01-15            0.530             0.149  \n",
       "2019-01-14            0.692             0.086  \n",
       "...                     ...               ...  \n",
       "2018-01-05            0.453             0.456  \n",
       "2018-01-04            0.424             0.399  \n",
       "2018-01-03            0.617             0.333  \n",
       "2018-01-02            0.357             0.300  \n",
       "2018-01-01            0.462             0.408  \n",
       "\n",
       "[319 rows x 14 columns]"
      ],
      "text/html": "<div>\n<style scoped>\n    .dataframe tbody tr th:only-of-type {\n        vertical-align: middle;\n    }\n\n    .dataframe tbody tr th {\n        vertical-align: top;\n    }\n\n    .dataframe thead th {\n        text-align: right;\n    }\n</style>\n<table border=\"1\" class=\"dataframe\">\n  <thead>\n    <tr style=\"text-align: right;\">\n      <th></th>\n      <th>Title</th>\n      <th>Article</th>\n      <th>Subjectivity_title</th>\n      <th>Polarity_title</th>\n      <th>Subjectivity_article</th>\n      <th>Polarity_article</th>\n      <th>Compound_title</th>\n      <th>Negative_title</th>\n      <th>Neutral_title</th>\n      <th>Positive_title</th>\n      <th>Compound_article</th>\n      <th>Negative_article</th>\n      <th>Neutral_article</th>\n      <th>Positive_article</th>\n    </tr>\n    <tr>\n      <th>Date</th>\n      <th></th>\n      <th></th>\n      <th></th>\n      <th></th>\n      <th></th>\n      <th></th>\n      <th></th>\n      <th></th>\n      <th></th>\n      <th></th>\n      <th></th>\n      <th></th>\n      <th></th>\n      <th></th>\n    </tr>\n  </thead>\n  <tbody>\n    <tr>\n      <th>2019-01-18</th>\n      <td>forex u.s. dollar rise consum optim fall forex...</td>\n      <td>reuter investing.com the greenback pick steam ...</td>\n      <td>0.000000</td>\n      <td>0.000000</td>\n      <td>0.516381</td>\n      <td>0.122429</td>\n      <td>-0.3089</td>\n      <td>0.471</td>\n      <td>0.068</td>\n      <td>0.461</td>\n      <td>0.9995</td>\n      <td>0.251</td>\n      <td>0.358</td>\n      <td>0.391</td>\n    </tr>\n    <tr>\n      <th>2019-01-17</th>\n      <td>forex u.s. dollar remain steadi jobless claim ...</td>\n      <td>reuter investing.com the greenback steadi thur...</td>\n      <td>0.400000</td>\n      <td>0.125000</td>\n      <td>0.355764</td>\n      <td>0.058835</td>\n      <td>0.9992</td>\n      <td>0.033</td>\n      <td>0.173</td>\n      <td>0.794</td>\n      <td>0.5584</td>\n      <td>0.172</td>\n      <td>0.658</td>\n      <td>0.170</td>\n    </tr>\n    <tr>\n      <th>2019-01-16</th>\n      <td>forex sterl rebound diminish brexit risk dolla...</td>\n      <td>reuter investing.com the pound steadi wednesda...</td>\n      <td>0.312500</td>\n      <td>0.112500</td>\n      <td>0.380771</td>\n      <td>0.014656</td>\n      <td>-0.8020</td>\n      <td>0.286</td>\n      <td>0.714</td>\n      <td>0.000</td>\n      <td>-0.9998</td>\n      <td>0.378</td>\n      <td>0.369</td>\n      <td>0.253</td>\n    </tr>\n    <tr>\n      <th>2019-01-15</th>\n      <td>forex u.s. dollar rise after weak german data ...</td>\n      <td>reuter investing.com the greenback rose tuesda...</td>\n      <td>0.506250</td>\n      <td>-0.143750</td>\n      <td>0.331946</td>\n      <td>0.095426</td>\n      <td>0.9998</td>\n      <td>0.012</td>\n      <td>0.140</td>\n      <td>0.848</td>\n      <td>-0.9999</td>\n      <td>0.321</td>\n      <td>0.530</td>\n      <td>0.149</td>\n    </tr>\n    <tr>\n      <th>2019-01-14</th>\n      <td>forex u.s. dollar flat yen rebound forex yen g...</td>\n      <td>reuter investing.com the greenback flat monday...</td>\n      <td>0.125000</td>\n      <td>-0.025000</td>\n      <td>0.332223</td>\n      <td>0.038962</td>\n      <td>0.3182</td>\n      <td>0.098</td>\n      <td>0.744</td>\n      <td>0.158</td>\n      <td>-0.9998</td>\n      <td>0.222</td>\n      <td>0.692</td>\n      <td>0.086</td>\n    </tr>\n    <tr>\n      <th>...</th>\n      <td>...</td>\n      <td>...</td>\n      <td>...</td>\n      <td>...</td>\n      <td>...</td>\n      <td>...</td>\n      <td>...</td>\n      <td>...</td>\n      <td>...</td>\n      <td>...</td>\n      <td>...</td>\n      <td>...</td>\n      <td>...</td>\n      <td>...</td>\n    </tr>\n    <tr>\n      <th>2018-01-05</th>\n      <td>forex- dollar rise despit fall job servic sect...</td>\n      <td>the u.s. dollar ralli friday investing.com the...</td>\n      <td>0.500000</td>\n      <td>0.250000</td>\n      <td>0.376388</td>\n      <td>0.102737</td>\n      <td>-0.3612</td>\n      <td>0.422</td>\n      <td>0.158</td>\n      <td>0.420</td>\n      <td>1.0000</td>\n      <td>0.091</td>\n      <td>0.453</td>\n      <td>0.456</td>\n    </tr>\n    <tr>\n      <th>2018-01-04</th>\n      <td>forex upbeat econom data fail to rescu dollar ...</td>\n      <td>reuter investing.com the dollar continu langui...</td>\n      <td>0.388056</td>\n      <td>-0.056508</td>\n      <td>0.417297</td>\n      <td>0.072682</td>\n      <td>0.9992</td>\n      <td>0.053</td>\n      <td>0.264</td>\n      <td>0.683</td>\n      <td>0.9999</td>\n      <td>0.177</td>\n      <td>0.424</td>\n      <td>0.399</td>\n    </tr>\n    <tr>\n      <th>2018-01-03</th>\n      <td>dollar set snap 10-day lose streak after stron...</td>\n      <td>reuter investing.com the dollar rebound near f...</td>\n      <td>0.472619</td>\n      <td>0.102976</td>\n      <td>0.328112</td>\n      <td>0.068333</td>\n      <td>0.4404</td>\n      <td>0.114</td>\n      <td>0.741</td>\n      <td>0.145</td>\n      <td>1.0000</td>\n      <td>0.050</td>\n      <td>0.617</td>\n      <td>0.333</td>\n    </tr>\n    <tr>\n      <th>2018-01-02</th>\n      <td>forex dollar weak continu into fall to more th...</td>\n      <td>investing.com the dollar fell three-month low ...</td>\n      <td>0.412315</td>\n      <td>0.071944</td>\n      <td>0.439044</td>\n      <td>0.137370</td>\n      <td>-0.9994</td>\n      <td>0.778</td>\n      <td>0.207</td>\n      <td>0.015</td>\n      <td>-0.9990</td>\n      <td>0.342</td>\n      <td>0.357</td>\n      <td>0.300</td>\n    </tr>\n    <tr>\n      <th>2018-01-01</th>\n      <td>forex aussi gain in asia after caixin manufact...</td>\n      <td>aussi gain asia investing.com the aussi gain s...</td>\n      <td>0.000000</td>\n      <td>0.000000</td>\n      <td>0.346505</td>\n      <td>0.033735</td>\n      <td>0.7269</td>\n      <td>0.000</td>\n      <td>0.797</td>\n      <td>0.203</td>\n      <td>0.9999</td>\n      <td>0.130</td>\n      <td>0.462</td>\n      <td>0.408</td>\n    </tr>\n  </tbody>\n</table>\n<p>319 rows × 14 columns</p>\n</div>"
     },
     "metadata": {},
     "execution_count": 96
    }
   ],
   "source": [
    "sia = SentimentIntensityAnalyzer()\n",
    "\n",
    "# New words and values\n",
    "new_words = {\n",
    "    'crush': 10,\n",
    "    'beat': 5,\n",
    "    'rise':100,\n",
    "    'miss': -5,\n",
    "    'troubl': -10,\n",
    "    'fall': -100,\n",
    "}\n",
    "\n",
    "sia.lexicon.update(new_words)\n",
    "\n",
    "df_news['Compound_title'] = [sia.polarity_scores(v)['compound'] for v in df_news['Title']]\n",
    "df_news['Negative_title'] = [sia.polarity_scores(v)['neg'] for v in df_news['Title']]\n",
    "df_news['Neutral_title'] = [sia.polarity_scores(v)['neu'] for v in df_news['Title']]\n",
    "df_news['Positive_title'] = [sia.polarity_scores(v)['pos'] for v in df_news['Title']]\n",
    "\n",
    "df_news['Compound_article'] = [sia.polarity_scores(v)['compound'] for v in df_news['Article']]\n",
    "df_news['Negative_article'] = [sia.polarity_scores(v)['neg'] for v in df_news['Article']]\n",
    "df_news['Neutral_article'] = [sia.polarity_scores(v)['neu'] for v in df_news['Article']]\n",
    "df_news['Positive_article'] = [sia.polarity_scores(v)['pos'] for v in df_news['Article']]\n",
    "\n",
    "\n",
    "df_news"
   ]
  },
  {
   "cell_type": "code",
   "execution_count": 97,
   "metadata": {},
   "outputs": [
    {
     "output_type": "execute_result",
     "data": {
      "text/plain": [
       "                  date    open    high     low  high_open  open_low  \\\n",
       "Date                                                                  \n",
       "2011-03-02  2011.03.02  1.3776  1.3890  1.3743     0.0114    0.0033   \n",
       "2011-03-03  2011.03.03  1.3865  1.3973  1.3833     0.0108    0.0032   \n",
       "2011-03-04  2011.03.04  1.3968  1.4006  1.3941     0.0038    0.0027   \n",
       "2011-03-07  2011.03.07  1.3994  1.4035  1.3955     0.0041    0.0039   \n",
       "2011-03-08  2011.03.08  1.3968  1.3988  1.3862     0.0020    0.0106   \n",
       "\n",
       "            total_pips  return_1  return_5        RSI   UpperBB   LowerBB  \\\n",
       "Date                                                                        \n",
       "2011-03-02      0.0147  0.006461  0.008510  71.586716  1.387593  1.344617   \n",
       "2011-03-03      0.0140  0.007501  0.012320  76.234568  1.393238  1.342332   \n",
       "2011-03-04      0.0065  0.001217  0.017016  89.795918  1.398280  1.341350   \n",
       "2011-03-07      0.0080 -0.001287  0.011734  81.395349  1.402068  1.341422   \n",
       "2011-03-08      0.0126 -0.004582  0.009292  71.917808  1.404229  1.342051   \n",
       "\n",
       "                MACD    Signal       EVM       ROC  ForceIndex   close  \\\n",
       "Date                                                                     \n",
       "2011-03-02  0.004981  0.002451  0.028358  0.008510   1008.7740  1.3865   \n",
       "2011-03-03  0.006497  0.003260  0.045849  0.012320   1357.9770  1.3969   \n",
       "2011-03-04  0.007746  0.004157  0.052665  0.017016   1646.8686  1.3986   \n",
       "2011-03-07  0.008493  0.005024  0.056328  0.011734   1197.5688  1.3968   \n",
       "2011-03-08  0.008471  0.005714  0.026534  0.009292    926.8736  1.3904   \n",
       "\n",
       "            close_shifted  \n",
       "Date                       \n",
       "2011-03-02         1.3969  \n",
       "2011-03-03         1.3986  \n",
       "2011-03-04         1.3968  \n",
       "2011-03-07         1.3904  \n",
       "2011-03-08         1.3908  "
      ],
      "text/html": "<div>\n<style scoped>\n    .dataframe tbody tr th:only-of-type {\n        vertical-align: middle;\n    }\n\n    .dataframe tbody tr th {\n        vertical-align: top;\n    }\n\n    .dataframe thead th {\n        text-align: right;\n    }\n</style>\n<table border=\"1\" class=\"dataframe\">\n  <thead>\n    <tr style=\"text-align: right;\">\n      <th></th>\n      <th>date</th>\n      <th>open</th>\n      <th>high</th>\n      <th>low</th>\n      <th>high_open</th>\n      <th>open_low</th>\n      <th>total_pips</th>\n      <th>return_1</th>\n      <th>return_5</th>\n      <th>RSI</th>\n      <th>UpperBB</th>\n      <th>LowerBB</th>\n      <th>MACD</th>\n      <th>Signal</th>\n      <th>EVM</th>\n      <th>ROC</th>\n      <th>ForceIndex</th>\n      <th>close</th>\n      <th>close_shifted</th>\n    </tr>\n    <tr>\n      <th>Date</th>\n      <th></th>\n      <th></th>\n      <th></th>\n      <th></th>\n      <th></th>\n      <th></th>\n      <th></th>\n      <th></th>\n      <th></th>\n      <th></th>\n      <th></th>\n      <th></th>\n      <th></th>\n      <th></th>\n      <th></th>\n      <th></th>\n      <th></th>\n      <th></th>\n      <th></th>\n    </tr>\n  </thead>\n  <tbody>\n    <tr>\n      <th>2011-03-02</th>\n      <td>2011.03.02</td>\n      <td>1.3776</td>\n      <td>1.3890</td>\n      <td>1.3743</td>\n      <td>0.0114</td>\n      <td>0.0033</td>\n      <td>0.0147</td>\n      <td>0.006461</td>\n      <td>0.008510</td>\n      <td>71.586716</td>\n      <td>1.387593</td>\n      <td>1.344617</td>\n      <td>0.004981</td>\n      <td>0.002451</td>\n      <td>0.028358</td>\n      <td>0.008510</td>\n      <td>1008.7740</td>\n      <td>1.3865</td>\n      <td>1.3969</td>\n    </tr>\n    <tr>\n      <th>2011-03-03</th>\n      <td>2011.03.03</td>\n      <td>1.3865</td>\n      <td>1.3973</td>\n      <td>1.3833</td>\n      <td>0.0108</td>\n      <td>0.0032</td>\n      <td>0.0140</td>\n      <td>0.007501</td>\n      <td>0.012320</td>\n      <td>76.234568</td>\n      <td>1.393238</td>\n      <td>1.342332</td>\n      <td>0.006497</td>\n      <td>0.003260</td>\n      <td>0.045849</td>\n      <td>0.012320</td>\n      <td>1357.9770</td>\n      <td>1.3969</td>\n      <td>1.3986</td>\n    </tr>\n    <tr>\n      <th>2011-03-04</th>\n      <td>2011.03.04</td>\n      <td>1.3968</td>\n      <td>1.4006</td>\n      <td>1.3941</td>\n      <td>0.0038</td>\n      <td>0.0027</td>\n      <td>0.0065</td>\n      <td>0.001217</td>\n      <td>0.017016</td>\n      <td>89.795918</td>\n      <td>1.398280</td>\n      <td>1.341350</td>\n      <td>0.007746</td>\n      <td>0.004157</td>\n      <td>0.052665</td>\n      <td>0.017016</td>\n      <td>1646.8686</td>\n      <td>1.3986</td>\n      <td>1.3968</td>\n    </tr>\n    <tr>\n      <th>2011-03-07</th>\n      <td>2011.03.07</td>\n      <td>1.3994</td>\n      <td>1.4035</td>\n      <td>1.3955</td>\n      <td>0.0041</td>\n      <td>0.0039</td>\n      <td>0.0080</td>\n      <td>-0.001287</td>\n      <td>0.011734</td>\n      <td>81.395349</td>\n      <td>1.402068</td>\n      <td>1.341422</td>\n      <td>0.008493</td>\n      <td>0.005024</td>\n      <td>0.056328</td>\n      <td>0.011734</td>\n      <td>1197.5688</td>\n      <td>1.3968</td>\n      <td>1.3904</td>\n    </tr>\n    <tr>\n      <th>2011-03-08</th>\n      <td>2011.03.08</td>\n      <td>1.3968</td>\n      <td>1.3988</td>\n      <td>1.3862</td>\n      <td>0.0020</td>\n      <td>0.0106</td>\n      <td>0.0126</td>\n      <td>-0.004582</td>\n      <td>0.009292</td>\n      <td>71.917808</td>\n      <td>1.404229</td>\n      <td>1.342051</td>\n      <td>0.008471</td>\n      <td>0.005714</td>\n      <td>0.026534</td>\n      <td>0.009292</td>\n      <td>926.8736</td>\n      <td>1.3904</td>\n      <td>1.3908</td>\n    </tr>\n  </tbody>\n</table>\n</div>"
     },
     "metadata": {},
     "execution_count": 97
    }
   ],
   "source": [
    "df_forex=pd.read_csv('transformed_data.csv', parse_dates=True, skipinitialspace=True)\n",
    "df_forex['Date'] = pd.to_datetime(df_forex['date'], infer_datetime_format=True)\n",
    "df_forex['close_shifted']=df_forex['close'].shift(-1)\n",
    "df_forex.set_index('Date',inplace=True)\n",
    "df_forex.head()"
   ]
  },
  {
   "cell_type": "code",
   "execution_count": 98,
   "metadata": {},
   "outputs": [
    {
     "output_type": "execute_result",
     "data": {
      "text/plain": [
       "               open     high      low  high_open  open_low  total_pips  \\\n",
       "Date                                                                     \n",
       "2018-01-02  1.20276  1.20795  1.20232    0.00519   0.00044     0.00563   \n",
       "2018-01-03  1.20572  1.20654  1.20019    0.00082   0.00553     0.00635   \n",
       "2018-01-04  1.20133  1.20879  1.20037    0.00746   0.00096     0.00842   \n",
       "2018-01-05  1.20659  1.20819  1.20198    0.00160   0.00461     0.00621   \n",
       "2018-01-08  1.20266  1.20510  1.19556    0.00244   0.00710     0.00954   \n",
       "\n",
       "            return_1  return_5        RSI   UpperBB  ...  \\\n",
       "Date                                                 ...   \n",
       "2018-01-02  0.004733  0.016618  98.190709  1.200916  ...   \n",
       "2018-01-03 -0.003691  0.013182  81.858948  1.203329  ...   \n",
       "2018-01-04  0.004478  0.015262  83.542899  1.206893  ...   \n",
       "2018-01-05 -0.003190  0.007243  67.128713  1.209079  ...   \n",
       "2018-01-08 -0.005204 -0.002916  43.169399  1.209862  ...   \n",
       "\n",
       "            Subjectivity_article  Polarity_article  Compound_title  \\\n",
       "Date                                                                 \n",
       "2018-01-02              0.439044          0.137370         -0.9994   \n",
       "2018-01-03              0.328112          0.068333          0.4404   \n",
       "2018-01-04              0.417297          0.072682          0.9992   \n",
       "2018-01-05              0.376388          0.102737         -0.3612   \n",
       "2018-01-08              0.435464          0.156300          0.9998   \n",
       "\n",
       "            Negative_title  Neutral_title  Positive_title  Compound_article  \\\n",
       "Date                                                                          \n",
       "2018-01-02           0.778          0.207           0.015           -0.9990   \n",
       "2018-01-03           0.114          0.741           0.145            1.0000   \n",
       "2018-01-04           0.053          0.264           0.683            0.9999   \n",
       "2018-01-05           0.422          0.158           0.420            1.0000   \n",
       "2018-01-08           0.008          0.155           0.837            1.0000   \n",
       "\n",
       "            Negative_article  Neutral_article  Positive_article  \n",
       "Date                                                             \n",
       "2018-01-02             0.342            0.357             0.300  \n",
       "2018-01-03             0.050            0.617             0.333  \n",
       "2018-01-04             0.177            0.424             0.399  \n",
       "2018-01-05             0.091            0.453             0.456  \n",
       "2018-01-08             0.102            0.518             0.380  \n",
       "\n",
       "[5 rows x 30 columns]"
      ],
      "text/html": "<div>\n<style scoped>\n    .dataframe tbody tr th:only-of-type {\n        vertical-align: middle;\n    }\n\n    .dataframe tbody tr th {\n        vertical-align: top;\n    }\n\n    .dataframe thead th {\n        text-align: right;\n    }\n</style>\n<table border=\"1\" class=\"dataframe\">\n  <thead>\n    <tr style=\"text-align: right;\">\n      <th></th>\n      <th>open</th>\n      <th>high</th>\n      <th>low</th>\n      <th>high_open</th>\n      <th>open_low</th>\n      <th>total_pips</th>\n      <th>return_1</th>\n      <th>return_5</th>\n      <th>RSI</th>\n      <th>UpperBB</th>\n      <th>...</th>\n      <th>Subjectivity_article</th>\n      <th>Polarity_article</th>\n      <th>Compound_title</th>\n      <th>Negative_title</th>\n      <th>Neutral_title</th>\n      <th>Positive_title</th>\n      <th>Compound_article</th>\n      <th>Negative_article</th>\n      <th>Neutral_article</th>\n      <th>Positive_article</th>\n    </tr>\n    <tr>\n      <th>Date</th>\n      <th></th>\n      <th></th>\n      <th></th>\n      <th></th>\n      <th></th>\n      <th></th>\n      <th></th>\n      <th></th>\n      <th></th>\n      <th></th>\n      <th></th>\n      <th></th>\n      <th></th>\n      <th></th>\n      <th></th>\n      <th></th>\n      <th></th>\n      <th></th>\n      <th></th>\n      <th></th>\n      <th></th>\n    </tr>\n  </thead>\n  <tbody>\n    <tr>\n      <th>2018-01-02</th>\n      <td>1.20276</td>\n      <td>1.20795</td>\n      <td>1.20232</td>\n      <td>0.00519</td>\n      <td>0.00044</td>\n      <td>0.00563</td>\n      <td>0.004733</td>\n      <td>0.016618</td>\n      <td>98.190709</td>\n      <td>1.200916</td>\n      <td>...</td>\n      <td>0.439044</td>\n      <td>0.137370</td>\n      <td>-0.9994</td>\n      <td>0.778</td>\n      <td>0.207</td>\n      <td>0.015</td>\n      <td>-0.9990</td>\n      <td>0.342</td>\n      <td>0.357</td>\n      <td>0.300</td>\n    </tr>\n    <tr>\n      <th>2018-01-03</th>\n      <td>1.20572</td>\n      <td>1.20654</td>\n      <td>1.20019</td>\n      <td>0.00082</td>\n      <td>0.00553</td>\n      <td>0.00635</td>\n      <td>-0.003691</td>\n      <td>0.013182</td>\n      <td>81.858948</td>\n      <td>1.203329</td>\n      <td>...</td>\n      <td>0.328112</td>\n      <td>0.068333</td>\n      <td>0.4404</td>\n      <td>0.114</td>\n      <td>0.741</td>\n      <td>0.145</td>\n      <td>1.0000</td>\n      <td>0.050</td>\n      <td>0.617</td>\n      <td>0.333</td>\n    </tr>\n    <tr>\n      <th>2018-01-04</th>\n      <td>1.20133</td>\n      <td>1.20879</td>\n      <td>1.20037</td>\n      <td>0.00746</td>\n      <td>0.00096</td>\n      <td>0.00842</td>\n      <td>0.004478</td>\n      <td>0.015262</td>\n      <td>83.542899</td>\n      <td>1.206893</td>\n      <td>...</td>\n      <td>0.417297</td>\n      <td>0.072682</td>\n      <td>0.9992</td>\n      <td>0.053</td>\n      <td>0.264</td>\n      <td>0.683</td>\n      <td>0.9999</td>\n      <td>0.177</td>\n      <td>0.424</td>\n      <td>0.399</td>\n    </tr>\n    <tr>\n      <th>2018-01-05</th>\n      <td>1.20659</td>\n      <td>1.20819</td>\n      <td>1.20198</td>\n      <td>0.00160</td>\n      <td>0.00461</td>\n      <td>0.00621</td>\n      <td>-0.003190</td>\n      <td>0.007243</td>\n      <td>67.128713</td>\n      <td>1.209079</td>\n      <td>...</td>\n      <td>0.376388</td>\n      <td>0.102737</td>\n      <td>-0.3612</td>\n      <td>0.422</td>\n      <td>0.158</td>\n      <td>0.420</td>\n      <td>1.0000</td>\n      <td>0.091</td>\n      <td>0.453</td>\n      <td>0.456</td>\n    </tr>\n    <tr>\n      <th>2018-01-08</th>\n      <td>1.20266</td>\n      <td>1.20510</td>\n      <td>1.19556</td>\n      <td>0.00244</td>\n      <td>0.00710</td>\n      <td>0.00954</td>\n      <td>-0.005204</td>\n      <td>-0.002916</td>\n      <td>43.169399</td>\n      <td>1.209862</td>\n      <td>...</td>\n      <td>0.435464</td>\n      <td>0.156300</td>\n      <td>0.9998</td>\n      <td>0.008</td>\n      <td>0.155</td>\n      <td>0.837</td>\n      <td>1.0000</td>\n      <td>0.102</td>\n      <td>0.518</td>\n      <td>0.380</td>\n    </tr>\n  </tbody>\n</table>\n<p>5 rows × 30 columns</p>\n</div>"
     },
     "metadata": {},
     "execution_count": 98
    }
   ],
   "source": [
    "df_merge = pd.merge(df_forex, df_news, how='inner',on='Date')\n",
    "df_merge.drop(['date','Title', 'Article'],inplace=True,axis=1)\n",
    "df_merge.head()\n",
    "\n"
   ]
  },
  {
   "source": [
    "# END OF PRE PROCESSING"
   ],
   "cell_type": "markdown",
   "metadata": {}
  },
  {
   "cell_type": "code",
   "execution_count": 70,
   "metadata": {},
   "outputs": [
    {
     "output_type": "execute_result",
     "data": {
      "text/plain": [
       "Index(['open', 'high', 'low', 'high_open', 'open_low', 'total_pips',\n",
       "       'return_1', 'return_5', 'RSI', 'UpperBB', 'LowerBB', 'MACD', 'Signal',\n",
       "       'EVM', 'ROC', 'ForceIndex', 'close', 'close_shifted',\n",
       "       'Subjectivity_title', 'Polarity_title', 'Subjectivity_article',\n",
       "       'Polarity_article', 'Compound_title', 'Negative_title', 'Neutral_title',\n",
       "       'Positive_title', 'Compound_article', 'Negative_article',\n",
       "       'Neutral_article', 'Positive_article'],\n",
       "      dtype='object')"
      ]
     },
     "metadata": {},
     "execution_count": 70
    }
   ],
   "source": [
    "df_merge.columns"
   ]
  },
  {
   "cell_type": "code",
   "execution_count": 71,
   "metadata": {},
   "outputs": [
    {
     "output_type": "execute_result",
     "data": {
      "text/plain": [
       "Index(['date', 'open', 'high', 'low', 'high_open', 'open_low', 'total_pips',\n",
       "       'return_1', 'return_5', 'RSI', 'UpperBB', 'LowerBB', 'MACD', 'Signal',\n",
       "       'EVM', 'ROC', 'ForceIndex', 'close', 'close_shifted'],\n",
       "      dtype='object')"
      ]
     },
     "metadata": {},
     "execution_count": 71
    }
   ],
   "source": [
    "df_forex.columns"
   ]
  },
  {
   "cell_type": "code",
   "execution_count": 72,
   "metadata": {},
   "outputs": [
    {
     "output_type": "execute_result",
     "data": {
      "text/plain": [
       "Index(['Title', 'Article', 'Subjectivity_title', 'Polarity_title',\n",
       "       'Subjectivity_article', 'Polarity_article', 'Compound_title',\n",
       "       'Negative_title', 'Neutral_title', 'Positive_title', 'Compound_article',\n",
       "       'Negative_article', 'Neutral_article', 'Positive_article'],\n",
       "      dtype='object')"
      ]
     },
     "metadata": {},
     "execution_count": 72
    }
   ],
   "source": [
    "df_news.columns"
   ]
  },
  {
   "cell_type": "code",
   "execution_count": 73,
   "metadata": {},
   "outputs": [
    {
     "output_type": "execute_result",
     "data": {
      "text/plain": [
       "30"
      ]
     },
     "metadata": {},
     "execution_count": 73
    }
   ],
   "source": [
    "len(df_merge.columns)"
   ]
  },
  {
   "cell_type": "code",
   "execution_count": 99,
   "metadata": {},
   "outputs": [],
   "source": [
    "df_merge.to_csv('merged_data_extra.csv')"
   ]
  },
  {
   "cell_type": "code",
   "execution_count": null,
   "metadata": {},
   "outputs": [],
   "source": []
  }
 ],
 "metadata": {
  "kernelspec": {
   "name": "python3",
   "display_name": "Python 3.7.7 64-bit",
   "metadata": {
    "interpreter": {
     "hash": "d4e5a9691a99c4b2e6f86967bd9857319d48610a0e75871ff8d50e5d18d4f7ac"
    }
   }
  },
  "language_info": {
   "codemirror_mode": {
    "name": "ipython",
    "version": 3
   },
   "file_extension": ".py",
   "mimetype": "text/x-python",
   "name": "python",
   "nbconvert_exporter": "python",
   "pygments_lexer": "ipython3",
   "version": "3.7.7-final"
  }
 },
 "nbformat": 4,
 "nbformat_minor": 2
}